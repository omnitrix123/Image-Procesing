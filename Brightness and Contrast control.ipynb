{
 "cells": [
  {
   "cell_type": "code",
   "execution_count": 1,
   "id": "2c4abfe5",
   "metadata": {},
   "outputs": [],
   "source": [
    "# change values of alpha and beta to adjust contrast and bighteness in video\n",
    "# video may lag a little \n",
    "\n",
    "import cv2 as cv\n",
    "import numpy as np\n",
    "cap = cv.VideoCapture(0)\n",
    "\n",
    "while(True):\n",
    "    # Capture frame-by-frame\n",
    "    ret, frame = cap.read()\n",
    "    frame=cv.resize(frame, (0,0), fx=0.3 ,fy=0.3)\n",
    "    new_image = np.zeros(frame.shape, frame.dtype)\n",
    "    alpha = 2 \n",
    "    beta = 50\n",
    "    \n",
    "    for y in range(frame.shape[0]):\n",
    "        for x in range(frame.shape[1]):\n",
    "            for c in range(frame.shape[2]):\n",
    "                new_image[y,x,c] = np.clip(alpha*frame[y,x,c] + beta, 0, 255)\n",
    "    \n",
    "\n",
    "    # Display the resulting frame\n",
    "    #cv2.imshow('frame',frame)\n",
    "    \n",
    "    \n",
    "    cv.imshow('Original Image', frame)\n",
    "    cv.imshow('New Image', new_image)\n",
    "    \n",
    "    if cv.waitKey(1) & 0xFF == ord('w'):\n",
    "        break\n",
    "\n",
    "# When everything done, release the capture\n",
    "cap.release()\n",
    "cv.destroyAllWindows()"
   ]
  },
  {
   "cell_type": "code",
   "execution_count": null,
   "id": "648a0c58",
   "metadata": {},
   "outputs": [],
   "source": []
  }
 ],
 "metadata": {
  "kernelspec": {
   "display_name": "Python 3",
   "language": "python",
   "name": "python3"
  },
  "language_info": {
   "codemirror_mode": {
    "name": "ipython",
    "version": 3
   },
   "file_extension": ".py",
   "mimetype": "text/x-python",
   "name": "python",
   "nbconvert_exporter": "python",
   "pygments_lexer": "ipython3",
   "version": "3.8.10"
  }
 },
 "nbformat": 4,
 "nbformat_minor": 5
}
