{
 "cells": [
  {
   "cell_type": "code",
   "execution_count": 1,
   "id": "edd7e322",
   "metadata": {},
   "outputs": [
    {
     "name": "stdout",
     "output_type": "stream",
     "text": [
      "pygame 2.0.1 (SDL 2.0.14, Python 3.8.10)\n",
      "Hello from the pygame community. https://www.pygame.org/contribute.html\n"
     ]
    }
   ],
   "source": [
    "# using keyboard you can change the brightness and contrast of the image \n",
    "# video lags a little\n",
    "# use up and down to adjust contrast\n",
    "# use side arrows to adjust brightness\n",
    "# click on pygame window and use up arrow key to increase contrast\n",
    "\n",
    "import pygame\n",
    "import cv2 as cv\n",
    "import numpy as np\n",
    "cap = cv.VideoCapture(0)\n",
    "\n",
    "\n",
    "pygame.init()\n",
    "screen = pygame.display.set_mode((200, 200))\n",
    "alpha = 0.8 \n",
    "beta = 0\n",
    "while True:\n",
    "    pressed = pygame.key.get_pressed()\n",
    "    ret, frame = cap.read()\n",
    "    frame=cv.resize(frame, (0,0), fx=0.3 ,fy=0.3)\n",
    "    new_image = np.zeros(frame.shape, frame.dtype)\n",
    "       \n",
    "\n",
    "        \n",
    "    for event in pygame.event.get():\n",
    "        if event.type == pygame.K_q:\n",
    "            pygame.display.quit()\n",
    "        if event.type == pygame.KEYDOWN:\n",
    "            if event.key == pygame.K_UP:\n",
    "                alpha = alpha+0.1\n",
    "                    \n",
    "            elif event.key ==pygame.K_DOWN:\n",
    "                alpha = alpha-0.1\n",
    "                 \n",
    "            elif event.key ==pygame.K_LEFT:\n",
    "                beta = beta-5\n",
    "                \n",
    "            elif event.key ==pygame.K_RIGHT:\n",
    "                beta = beta+5  \n",
    "                    \n",
    "    for x in range(frame.shape[0]):\n",
    "        for y in range(frame.shape[1]):\n",
    "            for z in range(frame.shape[2]):\n",
    "                new_image[x,y,z] = np.clip(alpha*frame[x,y,z] + beta, 0, 255)\n",
    "                    \n",
    "    cv.imshow('Original Image', frame)\n",
    "    cv.imshow('New Image', new_image)\n",
    "    if cv.waitKey(1) & 0xFF == ord('w'):\n",
    "        break      \n",
    "cap.release()\n",
    "cv.destroyAllWindows()\n"
   ]
  },
  {
   "cell_type": "code",
   "execution_count": null,
   "id": "4a9c1e47",
   "metadata": {},
   "outputs": [],
   "source": []
  }
 ],
 "metadata": {
  "kernelspec": {
   "display_name": "Python 3",
   "language": "python",
   "name": "python3"
  },
  "language_info": {
   "codemirror_mode": {
    "name": "ipython",
    "version": 3
   },
   "file_extension": ".py",
   "mimetype": "text/x-python",
   "name": "python",
   "nbconvert_exporter": "python",
   "pygments_lexer": "ipython3",
   "version": "3.8.10"
  }
 },
 "nbformat": 4,
 "nbformat_minor": 5
}
